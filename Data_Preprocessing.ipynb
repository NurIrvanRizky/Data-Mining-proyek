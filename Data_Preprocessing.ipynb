{
  "nbformat": 4,
  "nbformat_minor": 0,
  "metadata": {
    "colab": {
      "provenance": [],
      "collapsed_sections": []
    },
    "kernelspec": {
      "name": "python3",
      "display_name": "Python 3"
    },
    "language_info": {
      "name": "python"
    }
  },
  "cells": [
    {
      "cell_type": "code",
      "execution_count": null,
      "metadata": {
        "colab": {
          "base_uri": "https://localhost:8080/"
        },
        "id": "BlPDKEJqIjqp",
        "outputId": "269f4abf-ce73-465e-dd4b-75c0a211b205"
      },
      "outputs": [
        {
          "output_type": "stream",
          "name": "stdout",
          "text": [
            "[['France' 33.0 7200.0]\n",
            " ['Spain' 44.0 5000.0]\n",
            " ['germany' 50.0 5500.0]\n",
            " ['Spain' 56.0 nan]\n",
            " ['germany' 30.0 6000.0]\n",
            " ['France' 40.0 6500.0]\n",
            " ['spain' nan 8000.0]\n",
            " ['france' 30.0 4000.0]\n",
            " ['germany' 33.0 3000.0]\n",
            " [nan 21.0 4000.0]]\n",
            "['no' 'yes' 'no' 'yes' 'yes' 'yes' 'no' 'yes' 'no' 'yes']\n"
          ]
        }
      ],
      "source": [
        "import pandas as pd\n",
        "dataset=pd.read_csv('DATMIN.csv')\n",
        "x=dataset.iloc[:,:-1].values\n",
        "y=dataset.iloc[:,-1].values\n",
        "print(x)\n",
        "print(y)"
      ]
    },
    {
      "cell_type": "code",
      "source": [
        "import numpy as np\n",
        "from sklearn.impute import SimpleImputer\n",
        "imputer = SimpleImputer(missing_values = np.nan,\n",
        "\t\t\t\t\t\tstrategy ='mean')\n",
        "data=[[ 33.0 ,7200.0],\n",
        " [44.0, 5000.0],\n",
        " [ 50.0 ,5500.0],\n",
        " [ 56.0, np.nan],\n",
        " [30.0 ,6000.0],\n",
        " [40.0, 6500.0],\n",
        " [np.nan,8000.0],\n",
        " [30.0 ,4000.0],\n",
        " [33.0 ,3000.0],\n",
        " [21.0, 4000.0]]\n",
        "\n",
        "print (data)\n",
        "\n",
        "imputer = imputer.fit(data)\n",
        "data= imputer.transform(data)\n",
        "\n",
        "print(\"Imputed Data: \\n\", data)"
      ],
      "metadata": {
        "colab": {
          "base_uri": "https://localhost:8080/"
        },
        "id": "CiyaaPMcJJ9G",
        "outputId": "a166e130-ac14-4712-c97f-3b9b32830720"
      },
      "execution_count": null,
      "outputs": [
        {
          "output_type": "stream",
          "name": "stdout",
          "text": [
            "[[33.0, 7200.0], [44.0, 5000.0], [50.0, 5500.0], [56.0, nan], [30.0, 6000.0], [40.0, 6500.0], [nan, 8000.0], [30.0, 4000.0], [33.0, 3000.0], [21.0, 4000.0]]\n",
            "Imputed Data: \n",
            " [[  33.         7200.        ]\n",
            " [  44.         5000.        ]\n",
            " [  50.         5500.        ]\n",
            " [  56.         5466.66666667]\n",
            " [  30.         6000.        ]\n",
            " [  40.         6500.        ]\n",
            " [  37.44444444 8000.        ]\n",
            " [  30.         4000.        ]\n",
            " [  33.         3000.        ]\n",
            " [  21.         4000.        ]]\n"
          ]
        }
      ]
    },
    {
      "cell_type": "code",
      "source": [
        "import pandas as pd\n",
        "import numpy as np\n",
        "\n",
        "dataset = pd.read_csv('DATMIN.csv');\n",
        "print(dataset)\n",
        "print(dataset.mean())\n",
        "print(dataset.fillna(dataset.mean()))\n",
        "X = dataset.iloc[:, :-1].values\n",
        "y = dataset.iloc[:, -1].values\n",
        "print(X)\n",
        "print(y)"
      ],
      "metadata": {
        "colab": {
          "base_uri": "https://localhost:8080/"
        },
        "id": "76N0b4K8PLXv",
        "outputId": "44ebfc24-3d42-426c-9b40-1c5fd62b8ef5"
      },
      "execution_count": 1,
      "outputs": [
        {
          "output_type": "stream",
          "name": "stdout",
          "text": [
            "   Country   Age  Salary Purchased\n",
            "0   France  33.0  7200.0        no\n",
            "1    Spain  44.0  5000.0       yes\n",
            "2  germany  50.0  5500.0        no\n",
            "3    Spain  56.0     NaN       yes\n",
            "4  germany  30.0  6000.0       yes\n",
            "5   France  40.0  6500.0       yes\n",
            "6    spain   NaN  8000.0        no\n",
            "7   france  30.0  4000.0       yes\n",
            "8  germany  33.0  3000.0        no\n",
            "9      NaN  21.0  4000.0       yes\n",
            "Age         37.444444\n",
            "Salary    5466.666667\n",
            "dtype: float64\n",
            "   Country        Age       Salary Purchased\n",
            "0   France  33.000000  7200.000000        no\n",
            "1    Spain  44.000000  5000.000000       yes\n",
            "2  germany  50.000000  5500.000000        no\n",
            "3    Spain  56.000000  5466.666667       yes\n",
            "4  germany  30.000000  6000.000000       yes\n",
            "5   France  40.000000  6500.000000       yes\n",
            "6    spain  37.444444  8000.000000        no\n",
            "7   france  30.000000  4000.000000       yes\n",
            "8  germany  33.000000  3000.000000        no\n",
            "9      NaN  21.000000  4000.000000       yes\n",
            "[['France' 33.0 7200.0]\n",
            " ['Spain' 44.0 5000.0]\n",
            " ['germany' 50.0 5500.0]\n",
            " ['Spain' 56.0 nan]\n",
            " ['germany' 30.0 6000.0]\n",
            " ['France' 40.0 6500.0]\n",
            " ['spain' nan 8000.0]\n",
            " ['france' 30.0 4000.0]\n",
            " ['germany' 33.0 3000.0]\n",
            " [nan 21.0 4000.0]]\n",
            "['no' 'yes' 'no' 'yes' 'yes' 'yes' 'no' 'yes' 'no' 'yes']\n"
          ]
        },
        {
          "output_type": "stream",
          "name": "stderr",
          "text": [
            "/usr/local/lib/python3.7/dist-packages/ipykernel_launcher.py:6: FutureWarning: Dropping of nuisance columns in DataFrame reductions (with 'numeric_only=None') is deprecated; in a future version this will raise TypeError.  Select only valid columns before calling the reduction.\n",
            "  \n",
            "/usr/local/lib/python3.7/dist-packages/ipykernel_launcher.py:7: FutureWarning: Dropping of nuisance columns in DataFrame reductions (with 'numeric_only=None') is deprecated; in a future version this will raise TypeError.  Select only valid columns before calling the reduction.\n",
            "  import sys\n"
          ]
        }
      ]
    },
    {
      "cell_type": "code",
      "source": [
        "import pandas as pd\n",
        "import numpy as np\n",
        "dataset = pd.read_csv('DATMIN.csv');\n",
        "x = dataset.iloc[:, :-1].values\n",
        "\n",
        "from sklearn.compose import ColumnTransformer\n",
        "from sklearn.preprocessing import OneHotEncoder\n",
        "ct = ColumnTransformer(transformers=[('encoder', OneHotEncoder(),[0])],remainder='passthrough')\n",
        "x = np.array(ct.fit_transform(x))\n",
        "print(x)"
      ],
      "metadata": {
        "colab": {
          "base_uri": "https://localhost:8080/"
        },
        "id": "jZgwifcWnB1w",
        "outputId": "1dbedc37-9562-49be-f99b-678ceb1b3d3b"
      },
      "execution_count": 2,
      "outputs": [
        {
          "output_type": "stream",
          "name": "stdout",
          "text": [
            "[[1.0 0.0 0.0 0.0 0.0 0.0 33.0 7200.0]\n",
            " [0.0 1.0 0.0 0.0 0.0 0.0 44.0 5000.0]\n",
            " [0.0 0.0 0.0 1.0 0.0 0.0 50.0 5500.0]\n",
            " [0.0 1.0 0.0 0.0 0.0 0.0 56.0 nan]\n",
            " [0.0 0.0 0.0 1.0 0.0 0.0 30.0 6000.0]\n",
            " [1.0 0.0 0.0 0.0 0.0 0.0 40.0 6500.0]\n",
            " [0.0 0.0 0.0 0.0 1.0 0.0 nan 8000.0]\n",
            " [0.0 0.0 1.0 0.0 0.0 0.0 30.0 4000.0]\n",
            " [0.0 0.0 0.0 1.0 0.0 0.0 33.0 3000.0]\n",
            " [0.0 0.0 0.0 0.0 0.0 1.0 21.0 4000.0]]\n"
          ]
        }
      ]
    },
    {
      "cell_type": "code",
      "source": [
        "import pandas as pd\n",
        "import numpy as np\n",
        "\n",
        "dataset = pd.read_csv('DATMIN.csv');\n",
        "\n",
        "X = dataset.iloc[:, :-1].values\n",
        "y = dataset.iloc[:, -1].values\n",
        "from sklearn.preprocessing import LabelEncoder\n",
        "lbl = LabelEncoder()\n",
        "y = lbl.fit_transform(y)\n",
        "print(y)\n"
      ],
      "metadata": {
        "colab": {
          "base_uri": "https://localhost:8080/"
        },
        "id": "LgRuC79bnI0v",
        "outputId": "04879483-b82b-4a56-fa62-f6e517ebe8c6"
      },
      "execution_count": 3,
      "outputs": [
        {
          "output_type": "stream",
          "name": "stdout",
          "text": [
            "[0 1 0 1 1 1 0 1 0 1]\n"
          ]
        }
      ]
    },
    {
      "cell_type": "code",
      "source": [
        "import pandas as pd\n",
        "import numpy as np\n",
        "from sklearn import preprocessing\n",
        "dataset = pd.read_csv('DATMIN.csv');\n",
        "bantu = dataset.fillna(dataset.mean())\n",
        "array = bantu.values\n",
        "X = array[:,1:3]\n",
        "Y = array[:,0:3]\n",
        "\n",
        "print(bantu) #untuk mengetahui bentuk tabel\n",
        "print(X) #untuk mengetahui nilai array X\n",
        "print(Y) #untuk mengetahui nilai array Y\n",
        "\n",
        "\n",
        "dataset2=pd.DataFrame({'Country':array[:,0],'Age':array[:,1],'Salary':array[:,2],'Purchased':array[:,3]})\n",
        "print(\"dataset sebelum dinormalisasi :\")\n",
        "print(dataset2.head(10))\n",
        "\n",
        "min_max_scaler = preprocessing.MinMaxScaler(feature_range=(0,1)) #inisialisasi normalisasi MinMax\n",
        "data = min_max_scaler.fit_transform(X) #transformasi MinMax untuk fitur\n",
        "dataset2 = pd.DataFrame({'Age':data[:,0],'Salary':data[:,1],'Country':array[:,0],'Purchased':array[:,3]})\n",
        "\n",
        "print(\"dataset setelah dinormalisasi :\")\n",
        "print(dataset2.head(10)) \n"
      ],
      "metadata": {
        "colab": {
          "base_uri": "https://localhost:8080/"
        },
        "id": "J1H26PFJnTc3",
        "outputId": "6dab17c1-af57-4c55-b23c-d1135d2a64d8"
      },
      "execution_count": 6,
      "outputs": [
        {
          "output_type": "stream",
          "name": "stdout",
          "text": [
            "   Country        Age       Salary Purchased\n",
            "0   France  33.000000  7200.000000        no\n",
            "1    Spain  44.000000  5000.000000       yes\n",
            "2  germany  50.000000  5500.000000        no\n",
            "3    Spain  56.000000  5466.666667       yes\n",
            "4  germany  30.000000  6000.000000       yes\n",
            "5   France  40.000000  6500.000000       yes\n",
            "6    spain  37.444444  8000.000000        no\n",
            "7   france  30.000000  4000.000000       yes\n",
            "8  germany  33.000000  3000.000000        no\n",
            "9      NaN  21.000000  4000.000000       yes\n",
            "[[33.0 7200.0]\n",
            " [44.0 5000.0]\n",
            " [50.0 5500.0]\n",
            " [56.0 5466.666666666667]\n",
            " [30.0 6000.0]\n",
            " [40.0 6500.0]\n",
            " [37.44444444444444 8000.0]\n",
            " [30.0 4000.0]\n",
            " [33.0 3000.0]\n",
            " [21.0 4000.0]]\n",
            "[['France' 33.0 7200.0]\n",
            " ['Spain' 44.0 5000.0]\n",
            " ['germany' 50.0 5500.0]\n",
            " ['Spain' 56.0 5466.666666666667]\n",
            " ['germany' 30.0 6000.0]\n",
            " ['France' 40.0 6500.0]\n",
            " ['spain' 37.44444444444444 8000.0]\n",
            " ['france' 30.0 4000.0]\n",
            " ['germany' 33.0 3000.0]\n",
            " [nan 21.0 4000.0]]\n",
            "dataset sebelum dinormalisasi :\n",
            "   Country        Age       Salary Purchased\n",
            "0   France       33.0       7200.0        no\n",
            "1    Spain       44.0       5000.0       yes\n",
            "2  germany       50.0       5500.0        no\n",
            "3    Spain       56.0  5466.666667       yes\n",
            "4  germany       30.0       6000.0       yes\n",
            "5   France       40.0       6500.0       yes\n",
            "6    spain  37.444444       8000.0        no\n",
            "7   france       30.0       4000.0       yes\n",
            "8  germany       33.0       3000.0        no\n",
            "9      NaN       21.0       4000.0       yes\n",
            "dataset setelah dinormalisasi :\n",
            "        Age    Salary  Country Purchased\n",
            "0  0.342857  0.840000   France        no\n",
            "1  0.657143  0.400000    Spain       yes\n",
            "2  0.828571  0.500000  germany        no\n",
            "3  1.000000  0.493333    Spain       yes\n",
            "4  0.257143  0.600000  germany       yes\n",
            "5  0.542857  0.700000   France       yes\n",
            "6  0.469841  1.000000    spain        no\n",
            "7  0.257143  0.200000   france       yes\n",
            "8  0.342857  0.000000  germany        no\n",
            "9  0.000000  0.200000      NaN       yes\n"
          ]
        },
        {
          "output_type": "stream",
          "name": "stderr",
          "text": [
            "/usr/local/lib/python3.7/dist-packages/ipykernel_launcher.py:5: FutureWarning: Dropping of nuisance columns in DataFrame reductions (with 'numeric_only=None') is deprecated; in a future version this will raise TypeError.  Select only valid columns before calling the reduction.\n",
            "  \"\"\"\n"
          ]
        }
      ]
    }
  ]
}